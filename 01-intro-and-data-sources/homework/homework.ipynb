{
  "nbformat": 4,
  "nbformat_minor": 0,
  "metadata": {
    "colab": {
      "provenance": [],
      "authorship_tag": "ABX9TyMVR2EssA+T4IuVUoD6YwA4",
      "include_colab_link": true
    },
    "kernelspec": {
      "name": "python3",
      "display_name": "Python 3"
    },
    "language_info": {
      "name": "python"
    }
  },
  "cells": [
    {
      "cell_type": "markdown",
      "metadata": {
        "id": "view-in-github",
        "colab_type": "text"
      },
      "source": [
        "<a href=\"https://colab.research.google.com/github/kahramanmurat/stock-markets-analytics-zoomcamp-2024/blob/main/01-intro-and-data-sources/homework/homework.ipynb\" target=\"_parent\"><img src=\"https://colab.research.google.com/assets/colab-badge.svg\" alt=\"Open In Colab\"/></a>"
      ]
    },
    {
      "cell_type": "markdown",
      "source": [
        "## Module 1 Homework\n",
        "\n",
        "In this homework, we're going to download finance data from various sources and make simple calculations/analysis."
      ],
      "metadata": {
        "id": "8M2Fh7xxy1qY"
      }
    },
    {
      "cell_type": "code",
      "execution_count": 2,
      "metadata": {
        "colab": {
          "base_uri": "https://localhost:8080/"
        },
        "id": "5iLYpA3WyPQS",
        "outputId": "4ff073a0-93d3-451e-bdb9-7122ffc74144"
      },
      "outputs": [
        {
          "output_type": "stream",
          "name": "stdout",
          "text": [
            "Requirement already satisfied: yfinance in /usr/local/lib/python3.10/dist-packages (0.2.37)\n",
            "Requirement already satisfied: pandas>=1.3.0 in /usr/local/lib/python3.10/dist-packages (from yfinance) (2.0.3)\n",
            "Requirement already satisfied: numpy>=1.16.5 in /usr/local/lib/python3.10/dist-packages (from yfinance) (1.25.2)\n",
            "Requirement already satisfied: requests>=2.31 in /usr/local/lib/python3.10/dist-packages (from yfinance) (2.31.0)\n",
            "Requirement already satisfied: multitasking>=0.0.7 in /usr/local/lib/python3.10/dist-packages (from yfinance) (0.0.11)\n",
            "Requirement already satisfied: lxml>=4.9.1 in /usr/local/lib/python3.10/dist-packages (from yfinance) (4.9.4)\n",
            "Requirement already satisfied: appdirs>=1.4.4 in /usr/local/lib/python3.10/dist-packages (from yfinance) (1.4.4)\n",
            "Requirement already satisfied: pytz>=2022.5 in /usr/local/lib/python3.10/dist-packages (from yfinance) (2023.4)\n",
            "Requirement already satisfied: frozendict>=2.3.4 in /usr/local/lib/python3.10/dist-packages (from yfinance) (2.4.1)\n",
            "Requirement already satisfied: peewee>=3.16.2 in /usr/local/lib/python3.10/dist-packages (from yfinance) (3.17.1)\n",
            "Requirement already satisfied: beautifulsoup4>=4.11.1 in /usr/local/lib/python3.10/dist-packages (from yfinance) (4.12.3)\n",
            "Requirement already satisfied: html5lib>=1.1 in /usr/local/lib/python3.10/dist-packages (from yfinance) (1.1)\n",
            "Requirement already satisfied: soupsieve>1.2 in /usr/local/lib/python3.10/dist-packages (from beautifulsoup4>=4.11.1->yfinance) (2.5)\n",
            "Requirement already satisfied: six>=1.9 in /usr/local/lib/python3.10/dist-packages (from html5lib>=1.1->yfinance) (1.16.0)\n",
            "Requirement already satisfied: webencodings in /usr/local/lib/python3.10/dist-packages (from html5lib>=1.1->yfinance) (0.5.1)\n",
            "Requirement already satisfied: python-dateutil>=2.8.2 in /usr/local/lib/python3.10/dist-packages (from pandas>=1.3.0->yfinance) (2.8.2)\n",
            "Requirement already satisfied: tzdata>=2022.1 in /usr/local/lib/python3.10/dist-packages (from pandas>=1.3.0->yfinance) (2024.1)\n",
            "Requirement already satisfied: charset-normalizer<4,>=2 in /usr/local/lib/python3.10/dist-packages (from requests>=2.31->yfinance) (3.3.2)\n",
            "Requirement already satisfied: idna<4,>=2.5 in /usr/local/lib/python3.10/dist-packages (from requests>=2.31->yfinance) (3.6)\n",
            "Requirement already satisfied: urllib3<3,>=1.21.1 in /usr/local/lib/python3.10/dist-packages (from requests>=2.31->yfinance) (2.0.7)\n",
            "Requirement already satisfied: certifi>=2017.4.17 in /usr/local/lib/python3.10/dist-packages (from requests>=2.31->yfinance) (2024.2.2)\n"
          ]
        }
      ],
      "source": [
        "# install main library YFinance\n",
        "!pip install yfinance"
      ]
    },
    {
      "cell_type": "code",
      "source": [
        "#IMPORTS\n",
        "import numpy as np\n",
        "import pandas as pd\n",
        "\n",
        "#IMPORT FIN DATA SOURCES\n",
        "import pandas_datareader as pdr\n",
        "import yfinance as yf\n",
        "\n",
        "#IMPORT DATA VIZ\n",
        "import plotly.graph_objs as go\n",
        "import plotly.express as px\n",
        "\n",
        "import time\n",
        "from datetime import date, datetime\n"
      ],
      "metadata": {
        "id": "GBndVQCxzQ8Q"
      },
      "execution_count": 41,
      "outputs": []
    },
    {
      "cell_type": "markdown",
      "source": [
        "---\n",
        "### Question 1: [Macro] Average growth of GDP in 2023\n",
        "\n",
        "**What is the average growth (in %) of GDP in 2023?**\n",
        "\n",
        "Download the timeseries Real Gross Domestic Product (GDPC1) from FRED (https://fred.stlouisfed.org/series/GDPC1).\n",
        "Calculate year-over-year (YoY) growth rate (that is, divide current value to one 4 quarters ago). Find the average YoY growth in 2023 (average from 4 YoY numbers).\n",
        "Round to 1 digit after the decimal point: e.g. if you get 5.66% growth => you should answer  5.7\n",
        "\n",
        "---"
      ],
      "metadata": {
        "id": "J4Fiv4Uv1dz9"
      }
    },
    {
      "cell_type": "code",
      "source": [
        "end=date.today()\n",
        "start=date(end.year-3,end.month,end.day)"
      ],
      "metadata": {
        "id": "qvIt-QrC6CS2"
      },
      "execution_count": 37,
      "outputs": []
    },
    {
      "cell_type": "code",
      "source": [
        "#  Real Gross Domestic Product (GDPC1) from FRED, Billions of Chained 2017 Dollars, QUARTERLY\n",
        "# https://fred.stlouisfed.org/series/GDPC1\n",
        "gdpc1 = pdr.DataReader(\"GDPC1\", \"fred\", start=start)"
      ],
      "metadata": {
        "id": "RL8fWvkT0aR6"
      },
      "execution_count": 38,
      "outputs": []
    },
    {
      "cell_type": "code",
      "source": [
        "gdpc1['gdpc1_us_yoy'] = round((gdpc1.GDPC1/gdpc1.GDPC1.shift(4)-1)*100,1)"
      ],
      "metadata": {
        "id": "03zWG0Jm2Jp7"
      },
      "execution_count": 39,
      "outputs": []
    },
    {
      "cell_type": "code",
      "source": [
        "gdpc1.tail(4)"
      ],
      "metadata": {
        "colab": {
          "base_uri": "https://localhost:8080/",
          "height": 206
        },
        "id": "O878ElfK2YFg",
        "outputId": "cce0bb87-2b42-4219-9490-74c18085d84f"
      },
      "execution_count": 40,
      "outputs": [
        {
          "output_type": "execute_result",
          "data": {
            "text/plain": [
              "                GDPC1  gdpc1_us_yoy\n",
              "DATE                               \n",
              "2023-01-01  22112.329           1.7\n",
              "2023-04-01  22225.350           2.4\n",
              "2023-07-01  22490.692           2.9\n",
              "2023-10-01  22679.255           3.1"
            ],
            "text/html": [
              "\n",
              "  <div id=\"df-5d94ad02-7c5d-4b4e-8e88-075a0ca22b0e\" class=\"colab-df-container\">\n",
              "    <div>\n",
              "<style scoped>\n",
              "    .dataframe tbody tr th:only-of-type {\n",
              "        vertical-align: middle;\n",
              "    }\n",
              "\n",
              "    .dataframe tbody tr th {\n",
              "        vertical-align: top;\n",
              "    }\n",
              "\n",
              "    .dataframe thead th {\n",
              "        text-align: right;\n",
              "    }\n",
              "</style>\n",
              "<table border=\"1\" class=\"dataframe\">\n",
              "  <thead>\n",
              "    <tr style=\"text-align: right;\">\n",
              "      <th></th>\n",
              "      <th>GDPC1</th>\n",
              "      <th>gdpc1_us_yoy</th>\n",
              "    </tr>\n",
              "    <tr>\n",
              "      <th>DATE</th>\n",
              "      <th></th>\n",
              "      <th></th>\n",
              "    </tr>\n",
              "  </thead>\n",
              "  <tbody>\n",
              "    <tr>\n",
              "      <th>2023-01-01</th>\n",
              "      <td>22112.329</td>\n",
              "      <td>1.7</td>\n",
              "    </tr>\n",
              "    <tr>\n",
              "      <th>2023-04-01</th>\n",
              "      <td>22225.350</td>\n",
              "      <td>2.4</td>\n",
              "    </tr>\n",
              "    <tr>\n",
              "      <th>2023-07-01</th>\n",
              "      <td>22490.692</td>\n",
              "      <td>2.9</td>\n",
              "    </tr>\n",
              "    <tr>\n",
              "      <th>2023-10-01</th>\n",
              "      <td>22679.255</td>\n",
              "      <td>3.1</td>\n",
              "    </tr>\n",
              "  </tbody>\n",
              "</table>\n",
              "</div>\n",
              "    <div class=\"colab-df-buttons\">\n",
              "\n",
              "  <div class=\"colab-df-container\">\n",
              "    <button class=\"colab-df-convert\" onclick=\"convertToInteractive('df-5d94ad02-7c5d-4b4e-8e88-075a0ca22b0e')\"\n",
              "            title=\"Convert this dataframe to an interactive table.\"\n",
              "            style=\"display:none;\">\n",
              "\n",
              "  <svg xmlns=\"http://www.w3.org/2000/svg\" height=\"24px\" viewBox=\"0 -960 960 960\">\n",
              "    <path d=\"M120-120v-720h720v720H120Zm60-500h600v-160H180v160Zm220 220h160v-160H400v160Zm0 220h160v-160H400v160ZM180-400h160v-160H180v160Zm440 0h160v-160H620v160ZM180-180h160v-160H180v160Zm440 0h160v-160H620v160Z\"/>\n",
              "  </svg>\n",
              "    </button>\n",
              "\n",
              "  <style>\n",
              "    .colab-df-container {\n",
              "      display:flex;\n",
              "      gap: 12px;\n",
              "    }\n",
              "\n",
              "    .colab-df-convert {\n",
              "      background-color: #E8F0FE;\n",
              "      border: none;\n",
              "      border-radius: 50%;\n",
              "      cursor: pointer;\n",
              "      display: none;\n",
              "      fill: #1967D2;\n",
              "      height: 32px;\n",
              "      padding: 0 0 0 0;\n",
              "      width: 32px;\n",
              "    }\n",
              "\n",
              "    .colab-df-convert:hover {\n",
              "      background-color: #E2EBFA;\n",
              "      box-shadow: 0px 1px 2px rgba(60, 64, 67, 0.3), 0px 1px 3px 1px rgba(60, 64, 67, 0.15);\n",
              "      fill: #174EA6;\n",
              "    }\n",
              "\n",
              "    .colab-df-buttons div {\n",
              "      margin-bottom: 4px;\n",
              "    }\n",
              "\n",
              "    [theme=dark] .colab-df-convert {\n",
              "      background-color: #3B4455;\n",
              "      fill: #D2E3FC;\n",
              "    }\n",
              "\n",
              "    [theme=dark] .colab-df-convert:hover {\n",
              "      background-color: #434B5C;\n",
              "      box-shadow: 0px 1px 3px 1px rgba(0, 0, 0, 0.15);\n",
              "      filter: drop-shadow(0px 1px 2px rgba(0, 0, 0, 0.3));\n",
              "      fill: #FFFFFF;\n",
              "    }\n",
              "  </style>\n",
              "\n",
              "    <script>\n",
              "      const buttonEl =\n",
              "        document.querySelector('#df-5d94ad02-7c5d-4b4e-8e88-075a0ca22b0e button.colab-df-convert');\n",
              "      buttonEl.style.display =\n",
              "        google.colab.kernel.accessAllowed ? 'block' : 'none';\n",
              "\n",
              "      async function convertToInteractive(key) {\n",
              "        const element = document.querySelector('#df-5d94ad02-7c5d-4b4e-8e88-075a0ca22b0e');\n",
              "        const dataTable =\n",
              "          await google.colab.kernel.invokeFunction('convertToInteractive',\n",
              "                                                    [key], {});\n",
              "        if (!dataTable) return;\n",
              "\n",
              "        const docLinkHtml = 'Like what you see? Visit the ' +\n",
              "          '<a target=\"_blank\" href=https://colab.research.google.com/notebooks/data_table.ipynb>data table notebook</a>'\n",
              "          + ' to learn more about interactive tables.';\n",
              "        element.innerHTML = '';\n",
              "        dataTable['output_type'] = 'display_data';\n",
              "        await google.colab.output.renderOutput(dataTable, element);\n",
              "        const docLink = document.createElement('div');\n",
              "        docLink.innerHTML = docLinkHtml;\n",
              "        element.appendChild(docLink);\n",
              "      }\n",
              "    </script>\n",
              "  </div>\n",
              "\n",
              "\n",
              "<div id=\"df-abfd4f55-beb8-4df1-8b92-3d0156abec27\">\n",
              "  <button class=\"colab-df-quickchart\" onclick=\"quickchart('df-abfd4f55-beb8-4df1-8b92-3d0156abec27')\"\n",
              "            title=\"Suggest charts\"\n",
              "            style=\"display:none;\">\n",
              "\n",
              "<svg xmlns=\"http://www.w3.org/2000/svg\" height=\"24px\"viewBox=\"0 0 24 24\"\n",
              "     width=\"24px\">\n",
              "    <g>\n",
              "        <path d=\"M19 3H5c-1.1 0-2 .9-2 2v14c0 1.1.9 2 2 2h14c1.1 0 2-.9 2-2V5c0-1.1-.9-2-2-2zM9 17H7v-7h2v7zm4 0h-2V7h2v10zm4 0h-2v-4h2v4z\"/>\n",
              "    </g>\n",
              "</svg>\n",
              "  </button>\n",
              "\n",
              "<style>\n",
              "  .colab-df-quickchart {\n",
              "      --bg-color: #E8F0FE;\n",
              "      --fill-color: #1967D2;\n",
              "      --hover-bg-color: #E2EBFA;\n",
              "      --hover-fill-color: #174EA6;\n",
              "      --disabled-fill-color: #AAA;\n",
              "      --disabled-bg-color: #DDD;\n",
              "  }\n",
              "\n",
              "  [theme=dark] .colab-df-quickchart {\n",
              "      --bg-color: #3B4455;\n",
              "      --fill-color: #D2E3FC;\n",
              "      --hover-bg-color: #434B5C;\n",
              "      --hover-fill-color: #FFFFFF;\n",
              "      --disabled-bg-color: #3B4455;\n",
              "      --disabled-fill-color: #666;\n",
              "  }\n",
              "\n",
              "  .colab-df-quickchart {\n",
              "    background-color: var(--bg-color);\n",
              "    border: none;\n",
              "    border-radius: 50%;\n",
              "    cursor: pointer;\n",
              "    display: none;\n",
              "    fill: var(--fill-color);\n",
              "    height: 32px;\n",
              "    padding: 0;\n",
              "    width: 32px;\n",
              "  }\n",
              "\n",
              "  .colab-df-quickchart:hover {\n",
              "    background-color: var(--hover-bg-color);\n",
              "    box-shadow: 0 1px 2px rgba(60, 64, 67, 0.3), 0 1px 3px 1px rgba(60, 64, 67, 0.15);\n",
              "    fill: var(--button-hover-fill-color);\n",
              "  }\n",
              "\n",
              "  .colab-df-quickchart-complete:disabled,\n",
              "  .colab-df-quickchart-complete:disabled:hover {\n",
              "    background-color: var(--disabled-bg-color);\n",
              "    fill: var(--disabled-fill-color);\n",
              "    box-shadow: none;\n",
              "  }\n",
              "\n",
              "  .colab-df-spinner {\n",
              "    border: 2px solid var(--fill-color);\n",
              "    border-color: transparent;\n",
              "    border-bottom-color: var(--fill-color);\n",
              "    animation:\n",
              "      spin 1s steps(1) infinite;\n",
              "  }\n",
              "\n",
              "  @keyframes spin {\n",
              "    0% {\n",
              "      border-color: transparent;\n",
              "      border-bottom-color: var(--fill-color);\n",
              "      border-left-color: var(--fill-color);\n",
              "    }\n",
              "    20% {\n",
              "      border-color: transparent;\n",
              "      border-left-color: var(--fill-color);\n",
              "      border-top-color: var(--fill-color);\n",
              "    }\n",
              "    30% {\n",
              "      border-color: transparent;\n",
              "      border-left-color: var(--fill-color);\n",
              "      border-top-color: var(--fill-color);\n",
              "      border-right-color: var(--fill-color);\n",
              "    }\n",
              "    40% {\n",
              "      border-color: transparent;\n",
              "      border-right-color: var(--fill-color);\n",
              "      border-top-color: var(--fill-color);\n",
              "    }\n",
              "    60% {\n",
              "      border-color: transparent;\n",
              "      border-right-color: var(--fill-color);\n",
              "    }\n",
              "    80% {\n",
              "      border-color: transparent;\n",
              "      border-right-color: var(--fill-color);\n",
              "      border-bottom-color: var(--fill-color);\n",
              "    }\n",
              "    90% {\n",
              "      border-color: transparent;\n",
              "      border-bottom-color: var(--fill-color);\n",
              "    }\n",
              "  }\n",
              "</style>\n",
              "\n",
              "  <script>\n",
              "    async function quickchart(key) {\n",
              "      const quickchartButtonEl =\n",
              "        document.querySelector('#' + key + ' button');\n",
              "      quickchartButtonEl.disabled = true;  // To prevent multiple clicks.\n",
              "      quickchartButtonEl.classList.add('colab-df-spinner');\n",
              "      try {\n",
              "        const charts = await google.colab.kernel.invokeFunction(\n",
              "            'suggestCharts', [key], {});\n",
              "      } catch (error) {\n",
              "        console.error('Error during call to suggestCharts:', error);\n",
              "      }\n",
              "      quickchartButtonEl.classList.remove('colab-df-spinner');\n",
              "      quickchartButtonEl.classList.add('colab-df-quickchart-complete');\n",
              "    }\n",
              "    (() => {\n",
              "      let quickchartButtonEl =\n",
              "        document.querySelector('#df-abfd4f55-beb8-4df1-8b92-3d0156abec27 button');\n",
              "      quickchartButtonEl.style.display =\n",
              "        google.colab.kernel.accessAllowed ? 'block' : 'none';\n",
              "    })();\n",
              "  </script>\n",
              "</div>\n",
              "    </div>\n",
              "  </div>\n"
            ],
            "application/vnd.google.colaboratory.intrinsic+json": {
              "type": "dataframe",
              "summary": "{\n  \"name\": \"gdpc1\",\n  \"rows\": 4,\n  \"fields\": [\n    {\n      \"column\": \"DATE\",\n      \"properties\": {\n        \"dtype\": \"date\",\n        \"min\": \"2023-01-01 00:00:00\",\n        \"max\": \"2023-10-01 00:00:00\",\n        \"num_unique_values\": 4,\n        \"samples\": [\n          \"2023-04-01 00:00:00\",\n          \"2023-10-01 00:00:00\",\n          \"2023-01-01 00:00:00\"\n        ],\n        \"semantic_type\": \"\",\n        \"description\": \"\"\n      }\n    },\n    {\n      \"column\": \"GDPC1\",\n      \"properties\": {\n        \"dtype\": \"number\",\n        \"std\": 256.4711690495964,\n        \"min\": 22112.329,\n        \"max\": 22679.255,\n        \"num_unique_values\": 4,\n        \"samples\": [\n          22225.35,\n          22679.255,\n          22112.329\n        ],\n        \"semantic_type\": \"\",\n        \"description\": \"\"\n      }\n    },\n    {\n      \"column\": \"gdpc1_us_yoy\",\n      \"properties\": {\n        \"dtype\": \"number\",\n        \"std\": 0.6238322424070968,\n        \"min\": 1.7,\n        \"max\": 3.1,\n        \"num_unique_values\": 4,\n        \"samples\": [\n          2.4,\n          3.1,\n          1.7\n        ],\n        \"semantic_type\": \"\",\n        \"description\": \"\"\n      }\n    }\n  ]\n}"
            }
          },
          "metadata": {},
          "execution_count": 40
        }
      ]
    },
    {
      "cell_type": "markdown",
      "source": [
        "---\n",
        "### Question 2. [Macro] Inverse \"Treasury Yield\"\n",
        "\n",
        "**Find the min value of (dgs10-dgs2) after since year 2000 (2000-01-01) and write it down as an answer, round to 1 digit after the decimal point.**\n",
        "\n",
        "\n",
        "Download DGS2 and DGS10 interest rates series (https://fred.stlouisfed.org/series/DGS2,\n",
        " https://fred.stlouisfed.org/series/DGS10). Join them together to one dataframe on date (you might need to read about pandas.DataFrame.join()), calculate the difference dgs10-dgs2 daily.\n",
        "\n",
        "(Additional: think about what does the \"inverted yield curve\" mean for the market and investors? do you see the same thing in your country/market of interest? Do you think it can be a good predictive feature for the models?)\n",
        "\n",
        "---"
      ],
      "metadata": {
        "id": "M27fz_XL3VVl"
      }
    },
    {
      "cell_type": "code",
      "source": [
        "start = datetime(2000, 1, 1)"
      ],
      "metadata": {
        "id": "kHiXjHT77OFw"
      },
      "execution_count": 42,
      "outputs": []
    },
    {
      "cell_type": "code",
      "source": [
        "# DGS2 and DGS10 interest rates series (https://fred.stlouisfed.org/series/DGS2, https://fred.stlouisfed.org/series/DGS10)\n",
        "# Fetch DGS2 and DGS10 interest rate data from FRED\n",
        "dgs2 = pdr.DataReader(\"DGS2\", \"fred\", start=start)\n",
        "dgs10 = pdr.DataReader(\"DGS10\", \"fred\", start=start)\n",
        "\n",
        "# Join the two DataFrames on the date index\n",
        "yield_data = dgs10.join(dgs2, how='inner')\n",
        "\n",
        "# Calculate the difference (DGS10 - DGS2)\n",
        "yield_data['yield_diff'] = yield_data['DGS10'] - yield_data['DGS2']\n",
        "\n",
        "# Find the row with the minimum yield difference\n",
        "min_yield_row = yield_data[yield_data['yield_diff'] == yield_data['yield_diff'].min()]\n",
        "\n",
        "# Display the result\n",
        "print(round(min_yield_row, 1))"
      ],
      "metadata": {
        "colab": {
          "base_uri": "https://localhost:8080/"
        },
        "id": "da_zF_Gm4cqT",
        "outputId": "dd9cd166-9503-4b76-de32-ad226ea8ce46"
      },
      "execution_count": 54,
      "outputs": [
        {
          "output_type": "stream",
          "name": "stdout",
          "text": [
            "            DGS10  DGS2  yield_diff\n",
            "DATE                               \n",
            "2023-07-03    3.9   4.9        -1.1\n"
          ]
        }
      ]
    },
    {
      "cell_type": "markdown",
      "source": [
        "# Additional:\n",
        "\n",
        "The concept of an inverted yield curve refers to a situation in financial markets where long-term debt instruments have a lower yield than short-term debt instruments of the same credit quality. This is an unusual situation because typically, longer-term securities have higher yields to compensate investors for the greater risk of holding them over a longer period.\n",
        "\n",
        "### What an Inverted Yield Curve Means for the Market and Investors\n",
        "\n",
        "*   **Recession Indicator:** Historically, an inverted yield curve has been one\n",
        "of the most reliable predictors of a forthcoming recession. The inversion of the yield curve has preceded many of the U.S. recessions in recent decades.\n",
        "\n",
        "*   **Investor Sentiment:** An inverted yield curve reflects negative investor sentiment about the future of the economy. Investors may expect that the central bank will have to lower interest rates in the future to stimulate a slowing economy.\n",
        "\n",
        "*   **Lending Impact:** It can disincentivize banks and other financial institutions from lending, as the profit margin from borrowing short-term and lending long-term diminishes, potentially slowing economic growth further.\n",
        "\n",
        "\n",
        "*   In the United States, the inverted yield curve is closely watched as a recession predictor.\n",
        "\n"
      ],
      "metadata": {
        "id": "d5TnZ0qx_Sdc"
      }
    },
    {
      "cell_type": "markdown",
      "source": [
        "---\n",
        "### Question 3. [Index] Which Index is better recently?\n",
        "\n",
        "**Compare S&P 500 and IPC Mexico indexes by the 5 year growth and write down the largest value as an answer (%)**\n",
        "\n",
        "Download on Yahoo Finance two daily index prices for S&P 500 (^GSPC, https://finance.yahoo.com/quote/%5EGSPC/) and IPC Mexico (^MXX, https://finance.yahoo.com/quote/%5EMXX/). Compare 5Y growth for both (between 2019-04-09 and 2024-04-09). Select the higher growing index and write down the growth in % (closest integer %). E.g. if ratio end/start was 2.0925 (or growth of 109.25%), you need to write down 109 as your answer.\n",
        "\n",
        "(Additional: think of other indexes and try to download stats and compare the growth? Do create 10Y and 20Y growth stats. What is an average yearly growth rate (CAGR) for each of the indexes you select?)\n",
        "\n",
        "---"
      ],
      "metadata": {
        "id": "hzgp9EruAO7Y"
      }
    },
    {
      "cell_type": "code",
      "source": [
        "# Define the tickers and the date range\n",
        "tickers = [\"^GSPC\", \"^MXX\"]  # S&P 500 and IPC Mexico\n",
        "start_date = \"2019-04-09\"\n",
        "end_date = \"2024-04-09\""
      ],
      "metadata": {
        "id": "DEAZY7Gr5AHK"
      },
      "execution_count": 65,
      "outputs": []
    },
    {
      "cell_type": "code",
      "source": [
        "# Fetch the historical data\n",
        "data = yf.download(tickers, start=start_date, end=end_date)"
      ],
      "metadata": {
        "colab": {
          "base_uri": "https://localhost:8080/"
        },
        "id": "DYldRqWe5By4",
        "outputId": "141a4805-32b3-437d-d060-07969c8da4a0"
      },
      "execution_count": 66,
      "outputs": [
        {
          "output_type": "stream",
          "name": "stderr",
          "text": [
            "[*********************100%%**********************]  2 of 2 completed\n"
          ]
        }
      ]
    },
    {
      "cell_type": "code",
      "source": [
        "# Calculate the 5-year growth for both indices:\n",
        "\n",
        "growth_percentages = {}\n",
        "\n",
        "for ticker in tickers:\n",
        "    start_price = data[\"Adj Close\"][ticker].iloc[0]\n",
        "    end_price = data[\"Adj Close\"][ticker].iloc[-1]\n",
        "    growth_percentage = ((end_price / start_price) - 1) * 100\n",
        "    growth_percentages[ticker] = int(round(growth_percentage))"
      ],
      "metadata": {
        "id": "Sii9ZU3T7nZw"
      },
      "execution_count": 71,
      "outputs": []
    },
    {
      "cell_type": "code",
      "source": [
        "# Find and print the index with the highest growth:\n",
        "\n",
        "best_index_growth = max(growth_percentages, key=growth_percentages.get)\n",
        "best_growth_value = growth_percentages[best_index_growth]\n",
        "print(f\"The index with the highest 5-year growth is {best_index_growth} with a growth of {best_growth_value}%\")"
      ],
      "metadata": {
        "colab": {
          "base_uri": "https://localhost:8080/"
        },
        "id": "ECiW8RyoDb_V",
        "outputId": "d6c8d2ca-a628-40a8-a992-b15f52b6717d"
      },
      "execution_count": 73,
      "outputs": [
        {
          "output_type": "stream",
          "name": "stdout",
          "text": [
            "The index with the highest 5-year growth is ^GSPC with a growth of 81%\n"
          ]
        }
      ]
    },
    {
      "cell_type": "markdown",
      "source": [
        "# Additional:\n",
        "\n",
        "Let's compare with VTI and QQQ (10Y)"
      ],
      "metadata": {
        "id": "2_VR8PqFE4zm"
      }
    },
    {
      "cell_type": "code",
      "source": [
        "# Define the tickers and the date range\n",
        "tickers = [\"VTI\", \"ITOT\"]  # Vanguard Total Stock Market ETF & IShares Core S&P Total US Stock Market ETF\n",
        "start_date = \"2014-04-09\"\n",
        "end_date = \"2024-04-09\""
      ],
      "metadata": {
        "id": "oR1UxcLcD7BI"
      },
      "execution_count": 95,
      "outputs": []
    },
    {
      "cell_type": "code",
      "source": [
        "# Fetch the historical data\n",
        "data = yf.download(tickers, start=start_date, end=end_date)"
      ],
      "metadata": {
        "colab": {
          "base_uri": "https://localhost:8080/"
        },
        "id": "g8xAVM-jEfM_",
        "outputId": "f9f009e8-277b-4833-a6d6-447e655ee7d1"
      },
      "execution_count": 96,
      "outputs": [
        {
          "output_type": "stream",
          "name": "stderr",
          "text": [
            "[*********************100%%**********************]  2 of 2 completed\n"
          ]
        }
      ]
    },
    {
      "cell_type": "code",
      "source": [
        "# Calculate the 10-year growth for both indices:\n",
        "\n",
        "growth_percentages = {}\n",
        "\n",
        "for ticker in tickers:\n",
        "    start_price = data[\"Adj Close\"][ticker].iloc[0]\n",
        "    end_price = data[\"Adj Close\"][ticker].iloc[-1]\n",
        "    growth_percentage = ((end_price / start_price) - 1) * 100\n",
        "    growth_percentages[ticker] = int(round(growth_percentage))"
      ],
      "metadata": {
        "id": "GLH_ANA9Fb3o"
      },
      "execution_count": 97,
      "outputs": []
    },
    {
      "cell_type": "code",
      "source": [
        "# Find and print the index with the highest growth:\n",
        "\n",
        "best_index_growth = max(growth_percentages, key=growth_percentages.get)\n",
        "best_growth_value = growth_percentages[best_index_growth]\n",
        "print(f\"The index with the highest 10-year growth is {best_index_growth} with a growth of {best_growth_value}%\")"
      ],
      "metadata": {
        "colab": {
          "base_uri": "https://localhost:8080/"
        },
        "id": "CAb8q12SGj-U",
        "outputId": "b45e5b5b-84e4-40e3-a0f6-1a49c8f4e21b"
      },
      "execution_count": 98,
      "outputs": [
        {
          "output_type": "stream",
          "name": "stdout",
          "text": [
            "The index with the highest 10-year growth is ITOT with a growth of 219%\n"
          ]
        }
      ]
    },
    {
      "cell_type": "markdown",
      "source": [
        "Let's compare with VIG and DGRO (20Y)"
      ],
      "metadata": {
        "id": "S2CA0Sq7G0gL"
      }
    },
    {
      "cell_type": "code",
      "source": [
        "# Define the tickers and the date range\n",
        "tickers = [\"VTI\", \"^GSPC\"]\n",
        "start_date = \"2004-04-09\"\n",
        "end_date = \"2024-04-09\""
      ],
      "metadata": {
        "id": "OlAYZfuCGpDW"
      },
      "execution_count": 118,
      "outputs": []
    },
    {
      "cell_type": "code",
      "source": [
        "# Fetch the historical data\n",
        "data = yf.download(tickers, start=start_date, end=end_date)"
      ],
      "metadata": {
        "colab": {
          "base_uri": "https://localhost:8080/"
        },
        "id": "K8bmq0dDHxQq",
        "outputId": "7ea5a6b5-7b31-414e-ce4b-b789bf99a809"
      },
      "execution_count": 119,
      "outputs": [
        {
          "output_type": "stream",
          "name": "stderr",
          "text": [
            "[*********************100%%**********************]  2 of 2 completed\n"
          ]
        }
      ]
    },
    {
      "cell_type": "code",
      "source": [
        "# Calculate the 20-year growth for both indices:\n",
        "\n",
        "growth_percentages = {}\n",
        "\n",
        "for ticker in tickers:\n",
        "    start_price = data[\"Adj Close\"][ticker].iloc[0]\n",
        "    end_price = data[\"Adj Close\"][ticker].iloc[-1]\n",
        "    growth_percentage = ((end_price / start_price) - 1) * 100\n",
        "    growth_percentages[ticker] = int(round(growth_percentage))"
      ],
      "metadata": {
        "id": "QD74DsHFH1WW"
      },
      "execution_count": 120,
      "outputs": []
    },
    {
      "cell_type": "code",
      "source": [
        "# Find and print the index with the highest growth:\n",
        "\n",
        "best_index_growth = max(growth_percentages, key=growth_percentages.get)\n",
        "best_growth_value = growth_percentages[best_index_growth]\n",
        "print(f\"The index with the highest 20-year growth is {best_index_growth} with a growth of {best_growth_value}%\")"
      ],
      "metadata": {
        "colab": {
          "base_uri": "https://localhost:8080/"
        },
        "id": "1q6Kk87uH4Qn",
        "outputId": "c26b82bd-9f84-4e9a-e3de-ee38261500b3"
      },
      "execution_count": 121,
      "outputs": [
        {
          "output_type": "stream",
          "name": "stdout",
          "text": [
            "The index with the highest 20-year growth is VTI with a growth of 572%\n"
          ]
        }
      ]
    },
    {
      "cell_type": "markdown",
      "source": [
        "---\n",
        "### Question 4. [Stocks OHLCV] 52-weeks range ratio (2023) for the selected stocks\n",
        "\n",
        "\n",
        "**Find the largest range ratio [=(max-min)/max] of Adj.Close prices in 2023**\n",
        "\n",
        "\n",
        "Download the 2023 daily OHLCV data on Yahoo Finance for top5 stocks on earnings (https://companiesmarketcap.com/most-profitable-companies/): 2222.SR,BRK-B, AAPL, MSFT, GOOG, JPM.\n",
        "\n",
        "Here is the example data you should see in Pandas for \"2222.SR\": https://finance.yahoo.com/quote/2222.SR/history\n",
        "\n",
        "Calculate maximum-minimim \"Adj.Close\" price for each stock and divide it by the maximum \"Adj.Close\" value.\n",
        "Round the result to two decimal places (e.g. 0.1575 will be 0.16)\n",
        "\n",
        "(Additional: why this may be important for your research?)\n",
        "\n",
        "---"
      ],
      "metadata": {
        "id": "F38uq5TFI6bM"
      }
    },
    {
      "cell_type": "code",
      "source": [
        "# Define the tickers for the stocks\n",
        "tickers = [\"2222.SR\", \"BRK-B\", \"AAPL\", \"MSFT\", \"GOOG\", \"JPM\"]"
      ],
      "metadata": {
        "id": "JQ6KYp_HIQnN"
      },
      "execution_count": 122,
      "outputs": []
    },
    {
      "cell_type": "code",
      "source": [
        "# Set the time period for 2023\n",
        "start_date = \"2023-01-01\"\n",
        "end_date = \"2023-12-31\""
      ],
      "metadata": {
        "id": "6EyU1cXuJ1ZA"
      },
      "execution_count": 123,
      "outputs": []
    },
    {
      "cell_type": "code",
      "source": [
        "# Initialize a dictionary to store range ratios\n",
        "range_ratios = {}"
      ],
      "metadata": {
        "id": "0QKbhQ0KJ8dn"
      },
      "execution_count": 124,
      "outputs": []
    },
    {
      "cell_type": "code",
      "source": [
        "# Fetch the data and calculate the range ratio\n",
        "for ticker in tickers:\n",
        "    # Download the stock data\n",
        "    stock_data = yf.download(ticker, start=start_date, end=end_date)\n",
        "\n",
        "    # Calculate the maximum and minimum of the Adjusted Close prices\n",
        "    max_price = stock_data['Adj Close'].max()\n",
        "    min_price = stock_data['Adj Close'].min()\n",
        "\n",
        "    # Calculate the range ratio\n",
        "    range_ratio = (max_price - min_price) / max_price\n",
        "\n",
        "    # Store the result, rounded to two decimal places\n",
        "    range_ratios[ticker] = round(range_ratio, 2)\n",
        "\n",
        "# Find the stock with the largest range ratio\n",
        "stock_with_largest_ratio = max(range_ratios, key=range_ratios.get)\n",
        "largest_ratio = range_ratios[stock_with_largest_ratio]\n",
        "\n",
        "print(\"Stock with the largest range ratio:\", stock_with_largest_ratio)\n",
        "print(\"Largest range ratio:\", largest_ratio)"
      ],
      "metadata": {
        "colab": {
          "base_uri": "https://localhost:8080/"
        },
        "id": "imXJy6t6KA9z",
        "outputId": "5ba43c01-091e-4f1b-8ac8-3efb12e8d60d"
      },
      "execution_count": 125,
      "outputs": [
        {
          "output_type": "stream",
          "name": "stderr",
          "text": [
            "[*********************100%%**********************]  1 of 1 completed\n",
            "[*********************100%%**********************]  1 of 1 completed\n",
            "[*********************100%%**********************]  1 of 1 completed\n",
            "[*********************100%%**********************]  1 of 1 completed\n",
            "[*********************100%%**********************]  1 of 1 completed\n",
            "[*********************100%%**********************]  1 of 1 completed"
          ]
        },
        {
          "output_type": "stream",
          "name": "stdout",
          "text": [
            "Stock with the largest range ratio: MSFT\n",
            "Largest range ratio: 0.42\n"
          ]
        },
        {
          "output_type": "stream",
          "name": "stderr",
          "text": [
            "\n"
          ]
        }
      ]
    },
    {
      "cell_type": "markdown",
      "source": [
        "---\n",
        "### Question 5. [Stocks] Dividend Yield\n",
        "**Find the largest dividend yield for the same set of stocks**\n",
        "\n",
        "Use the same list of companies (2222.SR,BRK-B, AAPL, MSFT, GOOG, JPM) and download all dividends paid in 2023.\n",
        "You can use `get_actions()` method or `.dividends` field in yfinance library (https://github.com/ranaroussi/yfinance?tab=readme-ov-file#quick-start)\n",
        "\n",
        "Sum up all dividends paid in 2023 per company and divide each value by the closing price (Adj.Close) at the last trading day of the year.\n",
        "\n",
        "Find the maximm value in % and round to 1 digit after the decimal point. (E.g., if you obtained $1.25 dividends paid and the end year stock price is $100, the dividend yield is 1.25% -- and your answer should be equal to 1.3)\n",
        "\n",
        "---"
      ],
      "metadata": {
        "id": "0tYliT_nKnvO"
      }
    },
    {
      "cell_type": "code",
      "source": [
        "# Define the tickers for the stocks\n",
        "tickers = [\"2222.SR\", \"BRK-B\", \"AAPL\", \"MSFT\", \"GOOG\", \"JPM\"]\n",
        "\n",
        "# Set the time period for 2023\n",
        "start_date = \"2023-01-01\"\n",
        "end_date = \"2023-12-31\"\n",
        "\n",
        "# Initialize a dictionary to store the dividend yields\n",
        "dividend_yields = {}\n",
        "\n",
        "# Fetch the data and calculate the dividend yield\n",
        "for ticker in tickers:\n",
        "    stock = yf.Ticker(ticker)\n",
        "\n",
        "    # Get dividend actions and filter for 2023\n",
        "    dividends = stock.dividends[start_date:end_date].sum()\n",
        "\n",
        "    # Get the closing price on the last trading day of 2023\n",
        "    # We adjust the date range to ensure data availability\n",
        "    stock_data = yf.download(ticker, start=\"2023-12-20\", end=\"2024-01-05\")\n",
        "\n",
        "    if not stock_data.empty:\n",
        "        closing_price = stock_data['Adj Close'][-1]  # Get the last available closing price\n",
        "        # Calculate the dividend yield\n",
        "        dividend_yield = (dividends / closing_price) * 100\n",
        "        # Store the result, rounded to one decimal place\n",
        "        dividend_yields[ticker] = round(dividend_yield, 1)\n",
        "    else:\n",
        "        print(f\"No data available for {ticker} near the end of 2023.\")\n",
        "        dividend_yields[ticker] = 0.0\n",
        "\n",
        "# Find the stock with the highest dividend yield\n",
        "if dividend_yields:\n",
        "    stock_with_highest_yield = max(dividend_yields, key=dividend_yields.get)\n",
        "    highest_yield = dividend_yields[stock_with_highest_yield]\n",
        "    print(\"Stock with the highest dividend yield:\", stock_with_highest_yield)\n",
        "    print(\"Highest dividend yield:\", highest_yield)\n",
        "else:\n",
        "    print(\"No valid dividend yield data available for any stock.\")\n"
      ],
      "metadata": {
        "colab": {
          "base_uri": "https://localhost:8080/"
        },
        "id": "p1yl1qRVLSYZ",
        "outputId": "1de5227d-1124-4b0b-bb9e-a36abbeefd8e"
      },
      "execution_count": 135,
      "outputs": [
        {
          "output_type": "stream",
          "name": "stderr",
          "text": [
            "[*********************100%%**********************]  1 of 1 completed\n",
            "[*********************100%%**********************]  1 of 1 completed\n",
            "[*********************100%%**********************]  1 of 1 completed\n",
            "[*********************100%%**********************]  1 of 1 completed\n",
            "[*********************100%%**********************]  1 of 1 completed\n",
            "[*********************100%%**********************]  1 of 1 completed"
          ]
        },
        {
          "output_type": "stream",
          "name": "stdout",
          "text": [
            "Stock with the highest dividend yield: 2222.SR\n",
            "Highest dividend yield: 2.8\n"
          ]
        },
        {
          "output_type": "stream",
          "name": "stderr",
          "text": [
            "\n"
          ]
        }
      ]
    },
    {
      "cell_type": "markdown",
      "source": [],
      "metadata": {
        "id": "0E1x0M9iOGDd"
      }
    },
    {
      "cell_type": "markdown",
      "source": [
        "\n",
        "---\n",
        "### Question 6. [Exploratory] Investigate new metrics\n",
        "\n",
        "**Free text answer**\n",
        "\n",
        "Download and explore a few additional metrics or time series that might be valuable for your project and write down why (briefly).\n",
        "\n",
        "---"
      ],
      "metadata": {
        "id": "dr8WN95AOKZ6"
      }
    },
    {
      "cell_type": "markdown",
      "source": [
        "### **1. Beta Coefficient**\n",
        "What It Is: Beta measures the volatility of a stock or portfolio in relation to the overall market. A beta greater than 1 indicates higher volatility than the market, while a beta less than 1 indicates lower volatility.\n",
        "Why It’s Valuable: Understanding beta helps in assessing risk and can be crucial for portfolio diversification and risk management. It is particularly useful for determining the risk-return profile of investment opportunities."
      ],
      "metadata": {
        "id": "5TMJkHPJO0Yh"
      }
    },
    {
      "cell_type": "code",
      "source": [
        "def get_beta(ticker):\n",
        "    stock = yf.Ticker(ticker)\n",
        "    beta = stock.info.get('beta', None)  # Retrieves the Beta value from the stock's info dictionary\n",
        "    return beta\n",
        "\n",
        "# Example usage\n",
        "ticker = \"AAPL\"  # Replace 'AAPL' with your stock ticker\n",
        "beta_value = get_beta(ticker)\n",
        "print(f\"The Beta coefficient for {ticker} is: {beta_value}\")"
      ],
      "metadata": {
        "colab": {
          "base_uri": "https://localhost:8080/"
        },
        "id": "NE-FWwa3Nuvw",
        "outputId": "1924fd88-331b-4d57-e388-0414ba7d6dc2"
      },
      "execution_count": 137,
      "outputs": [
        {
          "output_type": "stream",
          "name": "stdout",
          "text": [
            "The Beta coefficient for AAPL is: 1.276\n"
          ]
        }
      ]
    },
    {
      "cell_type": "markdown",
      "source": [
        "### **2. Earnings Per Share (EPS) Growth**\n",
        "What It Is: EPS growth is the percentage change in earnings per share over time. It is a signal of a company’s profitability and financial health.\n",
        "Why It’s Valuable: Tracking EPS growth can help investors identify companies with improving profitability trends, making it a key metric for stock selection in growth investing strategies."
      ],
      "metadata": {
        "id": "LeCIiZYEPYyS"
      }
    },
    {
      "cell_type": "code",
      "source": [
        "!pip install beautifulsoup4"
      ],
      "metadata": {
        "colab": {
          "base_uri": "https://localhost:8080/"
        },
        "id": "LsnBJSPcPjmM",
        "outputId": "cccbd21a-20c3-4379-ec06-a7878cef2b65"
      },
      "execution_count": 154,
      "outputs": [
        {
          "output_type": "stream",
          "name": "stdout",
          "text": [
            "Requirement already satisfied: beautifulsoup4 in /usr/local/lib/python3.10/dist-packages (4.12.3)\n",
            "Requirement already satisfied: soupsieve>1.2 in /usr/local/lib/python3.10/dist-packages (from beautifulsoup4) (2.5)\n"
          ]
        }
      ]
    },
    {
      "cell_type": "code",
      "source": [
        "import requests\n",
        "from bs4 import BeautifulSoup\n",
        "import pandas as pd\n",
        "import numpy as np"
      ],
      "metadata": {
        "id": "gXvqg0woQfnb"
      },
      "execution_count": 155,
      "outputs": []
    },
    {
      "cell_type": "code",
      "source": [
        "url = 'https://finance.yahoo.com/calendar/earnings?from=2020-07-26&to=2020-08-01&day=2020-07-27'"
      ],
      "metadata": {
        "id": "rOjKwNgZRONu"
      },
      "execution_count": 159,
      "outputs": []
    },
    {
      "cell_type": "code",
      "source": [
        "r = requests.get(url)\n"
      ],
      "metadata": {
        "id": "6CdtbZdyT9xQ"
      },
      "execution_count": 160,
      "outputs": []
    },
    {
      "cell_type": "code",
      "source": [
        "r.ok"
      ],
      "metadata": {
        "colab": {
          "base_uri": "https://localhost:8080/"
        },
        "id": "aOD7_i3lT-X5",
        "outputId": "c67d6780-d987-43d8-cb56-ebd94dc6891b"
      },
      "execution_count": 161,
      "outputs": [
        {
          "output_type": "execute_result",
          "data": {
            "text/plain": [
              "True"
            ]
          },
          "metadata": {},
          "execution_count": 161
        }
      ]
    },
    {
      "cell_type": "code",
      "source": [
        "soup = BeautifulSoup(r.text)\n",
        "table = soup.find_all('table')\n",
        "len(table)"
      ],
      "metadata": {
        "colab": {
          "base_uri": "https://localhost:8080/"
        },
        "id": "SEMDI9BkUMrD",
        "outputId": "847b2771-3efd-4150-9a43-31c3f5445eb7"
      },
      "execution_count": 163,
      "outputs": [
        {
          "output_type": "execute_result",
          "data": {
            "text/plain": [
              "1"
            ]
          },
          "metadata": {},
          "execution_count": 163
        }
      ]
    },
    {
      "cell_type": "code",
      "source": [
        "#spans = soup.table.thead.find_all('span')\n",
        "spans = soup.table.thead.find_all('th')\n",
        "columns = []\n",
        "for span in spans:\n",
        "  print(span.text)\n",
        "  columns.append(span.text)"
      ],
      "metadata": {
        "colab": {
          "base_uri": "https://localhost:8080/"
        },
        "id": "pqjwNM_sUdWe",
        "outputId": "f9392d79-2d5b-4fa7-96ca-9fef363783ba"
      },
      "execution_count": 164,
      "outputs": [
        {
          "output_type": "stream",
          "name": "stdout",
          "text": [
            "Symbol\n",
            "Company\n",
            "Event Name\n",
            "Earnings Call Time\n",
            "EPS Estimate\n",
            "Reported EPS\n",
            "Surprise(%)\n"
          ]
        }
      ]
    },
    {
      "cell_type": "code",
      "source": [],
      "metadata": {
        "id": "K5rK45fJUl6g"
      },
      "execution_count": null,
      "outputs": []
    }
  ]
}